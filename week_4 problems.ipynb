{
 "cells": [
  {
   "cell_type": "markdown",
   "id": "35dd6b5f-1d72-4e11-8b6f-64aeb80159c9",
   "metadata": {},
   "source": [
    "# week -4"
   ]
  },
  {
   "cell_type": "markdown",
   "id": "a0466594-26f0-4102-94be-54f621c3d74f",
   "metadata": {},
   "source": [
    "\n",
    "### Week 4 - Programming Assignment-01\n"
   ]
  },
  {
   "cell_type": "code",
   "execution_count": 2,
   "id": "3710c6ca-35e7-4bb1-a1c2-00a6839168aa",
   "metadata": {},
   "outputs": [
    {
     "name": "stdout",
     "output_type": "stream",
     "text": [
      "Please share the details of the student\n"
     ]
    },
    {
     "name": "stdin",
     "output_type": "stream",
     "text": [
      "Please Enter Student Name:  imtiyaz\n",
      "Please Enter Student Roll No:  2024\n",
      "Please Enter Student Marks in Maths:  76\n",
      "Please Enter Student Marks in Physics:  80\n",
      "Please Enter Student Marks in Chemistry:  60\n"
     ]
    },
    {
     "name": "stdout",
     "output_type": "stream",
     "text": [
      "--------------------\n",
      "Here is the Grade Card:\n",
      "--------------------\n",
      "Student Name: Imtiyaz\n",
      "Student Roll No.: 2024\n",
      "Grade in Maths: 76\n",
      "Grade in Physics: 80\n",
      "Grade in Chemistry: 60\n",
      "Overall Grade: C\n",
      "-----------------\n"
     ]
    }
   ],
   "source": [
    "try:\n",
    "    print(\"Please share the details of the student\")\n",
    "    student_name = input(\"Please Enter Student Name: \").capitalize()\n",
    "    student_roll_no = int(input(\"Please Enter Student Roll No: \"))\n",
    "    student_marks_in_maths = int(input(\"Please Enter Student Marks in Maths: \"))\n",
    "    student_marks_in_physics = int(input(\"Please Enter Student Marks in Physics: \"))\n",
    "    student_marks_in_chemistry = int(input(\"Please Enter Student Marks in Chemistry: \"))\n",
    "\n",
    "    marks_total = student_marks_in_maths + student_marks_in_physics + student_marks_in_chemistry\n",
    "    average_total = marks_total / 3\n",
    "\n",
    "    if average_total >= 90:\n",
    "        grade = \"A\"\n",
    "    elif 80 <= average_total < 90:\n",
    "        grade = \"B\"\n",
    "    elif 70 <= average_total < 80:\n",
    "        grade = \"C\"\n",
    "    elif 60 <= average_total < 70:\n",
    "        grade = \"D\"\n",
    "    else:\n",
    "        grade = \"F\"\n",
    "\n",
    "    print(\"--------------------\")\n",
    "    print(\"Here is the Grade Card:\")\n",
    "    print(\"--------------------\")\n",
    "    print(f\"Student Name: {student_name}\")\n",
    "    print(f\"Student Roll No.: {student_roll_no}\")\n",
    "    print(f\"Grade in Maths: {student_marks_in_maths}\")\n",
    "    print(f\"Grade in Physics: {student_marks_in_physics}\")\n",
    "    print(f\"Grade in Chemistry: {student_marks_in_chemistry}\")\n",
    "    print(f\"Overall Grade: {grade}\")\n",
    "    print(\"-----------------\")\n",
    "\n",
    "    # Save details in a text file\n",
    "    with open(\"student_details.txt\", \"w\") as file:\n",
    "        file.write(\"Student Name: \" + student_name + \"\\n\")\n",
    "        file.write(\"Student Roll No.: \" + str(student_roll_no) + \"\\n\")\n",
    "        file.write(\"Grade in Maths: \" + str(student_marks_in_maths) + \"\\n\")\n",
    "        file.write(\"Grade in Physics: \" + str(student_marks_in_physics) + \"\\n\")\n",
    "        file.write(\"Grade in Chemistry: \" + str(student_marks_in_chemistry) + \"\\n\")\n",
    "        file.write(\"Overall Grade: \" + grade + \"\\n\")\n",
    "\n",
    "except ValueError:\n",
    "    print(\"Invalid input. Please enter numeric values for marks.\")\n"
   ]
  },
  {
   "cell_type": "markdown",
   "id": "069c0853-b6d3-423d-87ca-3db319fb9a5b",
   "metadata": {},
   "source": [
    "\n",
    "### Week 4 - Programming Assignment-02\n"
   ]
  },
  {
   "cell_type": "code",
   "execution_count": 4,
   "id": "9c8610d7-3260-4c10-8c50-fb58da1c6a6e",
   "metadata": {},
   "outputs": [
    {
     "name": "stdin",
     "output_type": "stream",
     "text": [
      "Enter the Temperature:  20\n",
      "Enter the Unit (C/F):  f\n"
     ]
    },
    {
     "name": "stdout",
     "output_type": "stream",
     "text": [
      "Temperature in Fahrenheit: 68.0\n"
     ]
    }
   ],
   "source": [
    "try:\n",
    "  Temperature = int(input(\"Enter the Temperature: \"))\n",
    "  Unit = input(\"Enter the Unit (C/F): \").capitalize()\n",
    "\n",
    "  if Unit == \"F\":\n",
    "      print(\"Temperature in Fahrenheit:\", (Temperature * 9/5) + 32)\n",
    "  elif Unit == \"C\": \n",
    "      print(\"Temperature in Celsius:\", (Temperature - 32) * 5/9)\n",
    "  else:\n",
    "      print(\"Invalid unit. Please enter 'C' for Celsius or 'F' for Fahrenheit.\")\n",
    "\n",
    "except ValueError:\n",
    "  print(\"Invalid input. Please enter numeric values for temperature.\")"
   ]
  },
  {
   "cell_type": "markdown",
   "id": "20f191d2-5f46-4d50-9796-2ca739054926",
   "metadata": {},
   "source": [
    "\n",
    "### Week 4 - Programming Assignment-03\n"
   ]
  },
  {
   "cell_type": "code",
   "execution_count": 7,
   "id": "2b09922a-cf28-4220-a599-f33c592c23ce",
   "metadata": {},
   "outputs": [
    {
     "name": "stdout",
     "output_type": "stream",
     "text": [
      "Please share the details of Username\n"
     ]
    },
    {
     "name": "stdin",
     "output_type": "stream",
     "text": [
      "Please Enter Username:  imti@z\n"
     ]
    },
    {
     "name": "stdout",
     "output_type": "stream",
     "text": [
      "Username is Invalid\n"
     ]
    }
   ],
   "source": [
    "try:\n",
    "  print(\"Please share the details of Username\")\n",
    "  username = input(\"Please Enter Username: \").capitalize()\n",
    "  if len(username) >= 5 and username.isalnum():\n",
    "    print(\"Username is Valid\")\n",
    "  else:\n",
    "    print(\"Username is Invalid\")\n",
    "  \n",
    "\n",
    "except ValueError:\n",
    "  print(\"Invalid input. Please enter a valid Input.\")"
   ]
  },
  {
   "cell_type": "markdown",
   "id": "3741e70e-9c2c-4235-a444-f4f095f506ae",
   "metadata": {},
   "source": [
    "\n",
    "### Week 4 - Programming Assignment-04\n"
   ]
  },
  {
   "cell_type": "code",
   "execution_count": 8,
   "id": "96c86d39-4443-43c7-ba48-2f57a3db9b9e",
   "metadata": {},
   "outputs": [
    {
     "name": "stdin",
     "output_type": "stream",
     "text": [
      "Enter the String 1:  kolkata\n",
      "Enter the String 2:  delhi\n"
     ]
    },
    {
     "name": "stdout",
     "output_type": "stream",
     "text": [
      " String_1 is longer length than string 2\n"
     ]
    }
   ],
   "source": [
    "try:\n",
    "  StringLengthComparison_1= input(\"Enter the String 1: \").capitalize()\n",
    "  StringLengthComparison_2= input(\"Enter the String 2: \").capitalize()\n",
    "\n",
    "  if len(StringLengthComparison_1) > len(StringLengthComparison_2):\n",
    "    print(\" String_1 is longer length than string 2\")\n",
    "    \n",
    "  elif len(StringLengthComparison_1) == len(StringLengthComparison_2):\n",
    "    print(\"Both string has same length\")\n",
    "  else:\n",
    "    print(\"String_2 is longer length  than Stringn_1\")\n",
    "  \n",
    "\n",
    "\n",
    "except ValueError:\n",
    "  print(\"Invalid input. Please enter a valid character.\")\n"
   ]
  },
  {
   "cell_type": "code",
   "execution_count": null,
   "id": "baae16aa-7cdc-4c5e-a3ad-4ab3bf002ce7",
   "metadata": {},
   "outputs": [],
   "source": []
  }
 ],
 "metadata": {
  "kernelspec": {
   "display_name": "Python 3 (ipykernel)",
   "language": "python",
   "name": "python3"
  },
  "language_info": {
   "codemirror_mode": {
    "name": "ipython",
    "version": 3
   },
   "file_extension": ".py",
   "mimetype": "text/x-python",
   "name": "python",
   "nbconvert_exporter": "python",
   "pygments_lexer": "ipython3",
   "version": "3.10.8"
  }
 },
 "nbformat": 4,
 "nbformat_minor": 5
}
